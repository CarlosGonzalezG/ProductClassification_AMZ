{
 "cells": [
  {
   "cell_type": "code",
   "execution_count": 5,
   "metadata": {},
   "outputs": [
    {
     "name": "stdout",
     "output_type": "stream",
     "text": [
      "{'also_buy': [], 'also_view': [], 'asin': 'B00ADZ3WUM', 'brand': 'NSI', 'category': ['Automotive', 'Exterior Accessories', 'Bumper Stickers, Decals & Magnets'], 'description': ['Bumpersticker: A day without sunshine is like, well, night. 11\"x2.5\" sticker. Art by NSI'], 'feature': ['Official Licensed Die-Cut Sticker Designed by NSI', 'Premium Decal is Great for All Surfaces; Skateboards, Windows, Walls, Desks, Doors, Automobiles, Motorcycles, Bumpers, Computers, Laptops, Tablets, Phones, Guitars & Etc.', 'Extra Durable, Remarkable Adhesive Long Lasting Vinyl Die-Cut Screen Print Sticker, Can Withstand Any Indoor/Outdoor Weather, Water Protected, UV Coated', 'Unique Gift Idea Suitable for Fans & Others', 'Individual Protective Packaging.'], 'image': [], 'price': '$4.68', 'title': 'NSI - A Day Without Sunshine is Like, Well, Night! - Bumper Sticker', 'main_cat': 'Automotive'}\n",
      "{'also_buy': [], 'also_view': [], 'asin': 'B005VII5IU', 'brand': 'General Motors', 'category': ['Automotive', 'Replacement Parts', 'Body & Trim', 'Body', 'Valances'], 'description': ['This is the official Genuine General Motors Parts replacement part for your vehicle.'], 'feature': ['This is the official Genuine General Motors Parts replacement part for your vehicle.'], 'image': [], 'price': '$213.16', 'title': 'Genuine GM Parts 10341533 Rear Bumper Valance Panel', 'main_cat': 'Automotive'}\n",
      "{'also_buy': [], 'also_view': [], 'asin': 'B001QTEKVO', 'brand': 'JLM', 'category': ['Automotive', 'Lights & Lighting Accessories', 'Lighting Conversion Kits', 'Headlight & Tail Light Conversion Kits'], 'description': ['HID Xenon lights are designed to be at least 3 times brighter and last 10 times longer than halogen lights. HID produces supreme light output providing drivers with greater visibility, therefore promotes increased comfort and safer night time driving condition. HID also consumes 35% less power and generates less heat during operation. Motorcycles and automobiles currently use a 12 Volt electrical system for their headlamps. HID lighting systems require over 20,000 volts to ignite the bulbs. Once lit, they only require 12 volts to keep running. JLM 12V 35W HID Conversion Kits are suitable for every car make and model that is powered by a 12V battery (which means most standard vehicles)'], 'feature': ['Will run for approx 2500 hours', 'Produces 2 to 3 times as much light as a halogen lamp', 'German advanced technology'], 'image': ['https://images-na.ssl-images-amazon.com/images/I/41h99ZOwVtL._SS40_.jpg'], 'price': '', 'title': ' JLM HID Conversion Kit H13 (9008) Dual Tube BI-XENON 6000K 4 SLIM Ballasts (Diamond White)', 'main_cat': 'Automotive'}\n",
      "{'also_buy': [], 'also_view': ['B007KLMLRM', 'B007KLMNNE', 'B0085FOJ90', 'B0085FOAWQ', 'B016RWK5U4', 'B01G9KTM62', 'B06XTRYT42', 'B00JBI8HKM', 'B01E4PS292', 'B06ZYY18KY', 'B0131NBUSS', 'B01G9KTLI6', 'B07D58VQSQ', 'B0753HH5RD', 'B00HWI2ABK', 'B0753GQ8ZN', 'B01JRAI8Y8', 'B01A150PIA'], 'asin': 'B00HWI43Q0', 'brand': 'Spec-D Tuning', 'category': ['Automotive', 'Lights & Lighting Accessories', 'Lighting Assemblies & Accessories', 'Brake & Tail Light Assemblies', 'Tail Light Assemblies'], 'description': ['Brand new in original packaging. Exactly the same as shown in the picture! Come with both tail lights. High quality red and smoke tail lights with latest 3D style led light bar. These lights are made by an OE approved and ISO certified manufacturer with the quality meet or exceed all OE standards. Do not come with installation instructions. Professional installation highly recommended. Fitment : 92-98 BMW E36 3-SERIES 2dr models (318I 325I 325IS 328I 328IS M3)'], 'feature': ['Features 1 pair of Red & Smoked lens Tail Lights', 'Direct replacement for stock assembly', '30 Day Money Back Guarantee & 90 Days Limited Warranty', 'Made by OEM approved & ISO certified manufacturers in materials that meet or exceed strict OEM requirements'], 'image': ['https://images-na.ssl-images-amazon.com/images/I/616EQpQ2V7L._SS40_.jpg'], 'price': '$8.63', 'title': 'Spec-D Tuning LT-E362RG-F2-APC New 3D Light Bar Bmw E36 3-Series 2Dr Red/Smoked Led Tail Lights Lamps', 'main_cat': 'Automotive'}\n",
      "{'also_buy': [], 'also_view': [], 'asin': 'B0050VHRFK', 'brand': 'Oracle Lighting', 'category': ['Automotive', 'Replacement Parts', 'Switches & Relays', 'Switches'], 'description': ['Oracle Flush LED switches combines styling and functionality with an illuminated LED ring inset on a clean stainless steel shell. Each switch can handle 3 Amp of current and look good while doing it. The switch diameter is 16mm (0.63 inches) and sit almost completely flush to the mounting surface. These switches are available in a variety of colors as well as momentary and on/off configurations.'], 'feature': ['Heavy stainless steel construction', 'LED illuminated center ring', '3 Amp rating', 'Variety of colors available', 'This has 1 year warranty'], 'image': ['https://images-na.ssl-images-amazon.com/images/I/41iLH8k4Z4L._SS40_.jpg', 'https://images-na.ssl-images-amazon.com/images/I/41XMyQVYnnL._SS40_.jpg'], 'price': '$19.95', 'title': 'Oracle Lighting LSGQ16FW White LED On/Off Flush Mount Switch', 'main_cat': 'Automotive'}\n"
     ]
    }
   ],
   "source": [
    "import gzip\n",
    "import json\n",
    "import pandas as pd\n",
    "import numpy as np\n",
    "import scipy\n",
    "\n",
    "def parse(path):\n",
    "    g = gzip.open(path, 'r')\n",
    "    for l in g:\n",
    "        yield json.loads(l)\n",
    "        \n",
    "path = '/Users/cggamella/Desktop/repos/carlos_gonzalez/dataset/amz_products_small.jsonl.gz'\n",
    "file = parse(path)\n",
    "\n",
    "for i, line in enumerate(file):\n",
    "    if i >= 5:  \n",
    "        break\n",
    "    print(line)\n"
   ]
  },
  {
   "cell_type": "code",
   "execution_count": 6,
   "metadata": {},
   "outputs": [],
   "source": [
    "def build_dataframe(path):\n",
    "    products = []\n",
    "    for product_json in parse(path):\n",
    "        brand = product_json.get(\"brand\", \"\")\n",
    "        title = product_json.get(\"title\", \"\")\n",
    "        description = \" \".join(product_json.get(\"description\", []))\n",
    "        feature = \" \".join(product_json.get(\"feature\", []))\n",
    "        main_cat = product_json.get(\"main_cat\", \"\")\n",
    "\n",
    "        combined_text = \" \".join([str(brand), str(title), str(description), str(feature)])\n",
    "        combined_text = combined_text.lower()\n",
    "        \n",
    "        products.append({\n",
    "            \"text\": combined_text,\n",
    "            \"main_cat\": main_cat\n",
    "        })\n",
    "    return pd.DataFrame(products)"
   ]
  },
  {
   "cell_type": "code",
   "execution_count": null,
   "metadata": {},
   "outputs": [
    {
     "data": {
      "text/html": [
       "<div>\n",
       "<style scoped>\n",
       "    .dataframe tbody tr th:only-of-type {\n",
       "        vertical-align: middle;\n",
       "    }\n",
       "\n",
       "    .dataframe tbody tr th {\n",
       "        vertical-align: top;\n",
       "    }\n",
       "\n",
       "    .dataframe thead th {\n",
       "        text-align: right;\n",
       "    }\n",
       "</style>\n",
       "<table border=\"1\" class=\"dataframe\">\n",
       "  <thead>\n",
       "    <tr style=\"text-align: right;\">\n",
       "      <th></th>\n",
       "      <th>text</th>\n",
       "      <th>main_cat</th>\n",
       "    </tr>\n",
       "  </thead>\n",
       "  <tbody>\n",
       "    <tr>\n",
       "      <th>0</th>\n",
       "      <td>nsi nsi - a day without sunshine is like, well...</td>\n",
       "      <td>Automotive</td>\n",
       "    </tr>\n",
       "    <tr>\n",
       "      <th>1</th>\n",
       "      <td>general motors genuine gm parts 10341533 rear ...</td>\n",
       "      <td>Automotive</td>\n",
       "    </tr>\n",
       "    <tr>\n",
       "      <th>2</th>\n",
       "      <td>jlm  jlm hid conversion kit h13 (9008) dual tu...</td>\n",
       "      <td>Automotive</td>\n",
       "    </tr>\n",
       "    <tr>\n",
       "      <th>3</th>\n",
       "      <td>spec-d tuning spec-d tuning lt-e362rg-f2-apc n...</td>\n",
       "      <td>Automotive</td>\n",
       "    </tr>\n",
       "    <tr>\n",
       "      <th>4</th>\n",
       "      <td>oracle lighting oracle lighting lsgq16fw white...</td>\n",
       "      <td>Automotive</td>\n",
       "    </tr>\n",
       "    <tr>\n",
       "      <th>...</th>\n",
       "      <td>...</td>\n",
       "      <td>...</td>\n",
       "    </tr>\n",
       "    <tr>\n",
       "      <th>1248412</th>\n",
       "      <td>filemaker filemaker pro - ( v. 12 ) - complete...</td>\n",
       "      <td>All Electronics</td>\n",
       "    </tr>\n",
       "    <tr>\n",
       "      <th>1248413</th>\n",
       "      <td>sage sage 50 pro accounting 2014 us edition &lt;d...</td>\n",
       "      <td>All Electronics</td>\n",
       "    </tr>\n",
       "    <tr>\n",
       "      <th>1248414</th>\n",
       "      <td>mcafee mfe internet security 1pc 2014 mcafee, ...</td>\n",
       "      <td>All Electronics</td>\n",
       "    </tr>\n",
       "    <tr>\n",
       "      <th>1248415</th>\n",
       "      <td>ybs ybs nuance dragon naturally speaking premi...</td>\n",
       "      <td>All Electronics</td>\n",
       "    </tr>\n",
       "    <tr>\n",
       "      <th>1248416</th>\n",
       "      <td>kaspersky 1yr kis 2016 3dt com lics+ltd 1yr ki...</td>\n",
       "      <td>All Electronics</td>\n",
       "    </tr>\n",
       "  </tbody>\n",
       "</table>\n",
       "<p>1248417 rows × 2 columns</p>\n",
       "</div>"
      ],
      "text/plain": [
       "                                                      text         main_cat\n",
       "0        nsi nsi - a day without sunshine is like, well...       Automotive\n",
       "1        general motors genuine gm parts 10341533 rear ...       Automotive\n",
       "2        jlm  jlm hid conversion kit h13 (9008) dual tu...       Automotive\n",
       "3        spec-d tuning spec-d tuning lt-e362rg-f2-apc n...       Automotive\n",
       "4        oracle lighting oracle lighting lsgq16fw white...       Automotive\n",
       "...                                                    ...              ...\n",
       "1248412  filemaker filemaker pro - ( v. 12 ) - complete...  All Electronics\n",
       "1248413  sage sage 50 pro accounting 2014 us edition <d...  All Electronics\n",
       "1248414  mcafee mfe internet security 1pc 2014 mcafee, ...  All Electronics\n",
       "1248415  ybs ybs nuance dragon naturally speaking premi...  All Electronics\n",
       "1248416  kaspersky 1yr kis 2016 3dt com lics+ltd 1yr ki...  All Electronics\n",
       "\n",
       "[1248417 rows x 2 columns]"
      ]
     },
     "execution_count": 7,
     "metadata": {},
     "output_type": "execute_result"
    }
   ],
   "source": [
    "df = build_dataframe(path)\n",
    "df"
   ]
  },
  {
   "cell_type": "code",
   "execution_count": null,
   "metadata": {},
   "outputs": [],
   "source": [
    "from sklearn.model_selection import train_test_split\n",
    "\n",
    "train_df, val_df = train_test_split(\n",
    "    df,\n",
    "    test_size=0.2,\n",
    "    random_state=42,\n",
    "    stratify=df[\"main_cat\"] \n",
    ")"
   ]
  },
  {
   "cell_type": "code",
   "execution_count": null,
   "metadata": {},
   "outputs": [
    {
     "data": {
      "text/plain": [
       "main_cat\n",
       "Tools & Home Improvement     74358\n",
       "Automotive                   73434\n",
       "Arts, Crafts & Sewing        72556\n",
       "Toys & Games                 72034\n",
       "Office Products              71681\n",
       "Amazon Home                  71362\n",
       "Grocery                      70184\n",
       "Sports & Outdoors            70177\n",
       "Books                        69685\n",
       "Computers                    67156\n",
       "Movies & TV                  60608\n",
       "Amazon Fashion               59747\n",
       "Cell Phones & Accessories    59432\n",
       "Pet Supplies                 57490\n",
       "Industrial & Scientific      55503\n",
       "All Electronics              52878\n",
       "Digital Music                48319\n",
       "Camera & Photo               36687\n",
       "Musical Instruments          35873\n",
       "Home Audio & Theater         33401\n",
       "Video Games                  21736\n",
       "Health & Personal Care       14116\n",
       "Name: count, dtype: int64"
      ]
     },
     "execution_count": 14,
     "metadata": {},
     "output_type": "execute_result"
    }
   ],
   "source": [
    "df['main_cat'].value_counts()"
   ]
  }
 ],
 "metadata": {
  "kernelspec": {
   "display_name": "Python 3",
   "language": "python",
   "name": "python3"
  },
  "language_info": {
   "codemirror_mode": {
    "name": "ipython",
    "version": 3
   },
   "file_extension": ".py",
   "mimetype": "text/x-python",
   "name": "python",
   "nbconvert_exporter": "python",
   "pygments_lexer": "ipython3",
   "version": "3.9.6"
  }
 },
 "nbformat": 4,
 "nbformat_minor": 2
}
